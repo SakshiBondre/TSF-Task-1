{
  "nbformat": 4,
  "nbformat_minor": 0,
  "metadata": {
    "colab": {
      "name": "Sakshi Bondre-Task 1.ipynb",
      "provenance": [],
      "collapsed_sections": []
    },
    "kernelspec": {
      "name": "python3",
      "display_name": "Python 3"
    }
  },
  "cells": [
    {
      "cell_type": "markdown",
      "metadata": {
        "id": "H1b1f4XgshOE"
      },
      "source": [
        "Name :   Sakshi Bondre\r\n"
      ]
    },
    {
      "cell_type": "markdown",
      "metadata": {
        "id": "kKBqRYgis8EX"
      },
      "source": [
        "Task 1: Supervised Machine Learning"
      ]
    },
    {
      "cell_type": "markdown",
      "metadata": {
        "id": "NnvRs-hot1Z2"
      },
      "source": [
        "Step 1. Importing Libraries"
      ]
    },
    {
      "cell_type": "code",
      "metadata": {
        "id": "CertoUUut_2t"
      },
      "source": [
        "import pandas as pd\r\n",
        "import numpy as np\r\n",
        "import matplotlib.pyplot as plt\r\n"
      ],
      "execution_count": null,
      "outputs": []
    },
    {
      "cell_type": "markdown",
      "metadata": {
        "id": "S046KDQ9uN64"
      },
      "source": [
        "Step 2: Reading Data"
      ]
    },
    {
      "cell_type": "code",
      "metadata": {
        "id": "3a4IrYk0s2px"
      },
      "source": [
        "url = \"http://bit.ly/w-data\"\r\n",
        "data = pd.read_csv(url)\r\n",
        "x=data.iloc[:,:-1];\r\n",
        "y=data.iloc[:,-1];\r\n"
      ],
      "execution_count": null,
      "outputs": []
    },
    {
      "cell_type": "markdown",
      "metadata": {
        "id": "3oBvtMChu2p-"
      },
      "source": [
        "Step 3: Visualising Actual Data set"
      ]
    },
    {
      "cell_type": "code",
      "metadata": {
        "colab": {
          "base_uri": "https://localhost:8080/",
          "height": 295
        },
        "id": "zPbbmeZdvQZL",
        "outputId": "851f61a5-a4f8-4e5a-b9db-8eff0a6e0c43"
      },
      "source": [
        "plt.scatter(x,y,color='blue');\r\n",
        "plt.xlabel(\"Number of Hours\");\r\n",
        "plt.ylabel(\"Score of Student\");\r\n",
        "plt.title(\"Unsupervised ML-Linear Regression\");\r\n",
        "plt.show();"
      ],
      "execution_count": null,
      "outputs": [
        {
          "output_type": "display_data",
          "data": {
            "image/png": "[encoded data removed]",
            "text/plain": [
              "<Figure size 432x288 with 1 Axes>"
            ]
          },
          "metadata": {
            "tags": [],
            "needs_background": "light"
          }
        }
      ]
    },
    {
      "cell_type": "markdown",
      "metadata": {
        "id": "774zOdxMuh4f"
      },
      "source": [
        "Step 3: Splitting Data into Training and Testing set"
      ]
    },
    {
      "cell_type": "code",
      "metadata": {
        "id": "qlG0-_B7upSV"
      },
      "source": [
        "from sklearn.model_selection import train_test_split\r\n",
        "x_train,x_test,y_train,y_test=train_test_split(x,y,test_size=0.2,random_state=0);"
      ],
      "execution_count": null,
      "outputs": []
    },
    {
      "cell_type": "markdown",
      "metadata": {
        "id": "Jr7yN8lJw7jq"
      },
      "source": [
        "Step 4: Training the Simple Linear Regression Model"
      ]
    },
    {
      "cell_type": "code",
      "metadata": {
        "id": "Awi566RAxO1W"
      },
      "source": [
        "from sklearn.linear_model import LinearRegression\r\n",
        "lr=LinearRegression();\r\n",
        "lr.fit(x_train,y_train);"
      ],
      "execution_count": null,
      "outputs": []
    },
    {
      "cell_type": "markdown",
      "metadata": {
        "id": "aK5kcBVcxyy6"
      },
      "source": [
        "Step 5: Predicting Test Set Result"
      ]
    },
    {
      "cell_type": "code",
      "metadata": {
        "id": "iGvy1j9px9EO"
      },
      "source": [
        "y_pred=lr.predict(x_test);"
      ],
      "execution_count": null,
      "outputs": []
    },
    {
      "cell_type": "markdown",
      "metadata": {
        "id": "3HWe9XbAyEDa"
      },
      "source": [
        "Step 6: Visualising the Training set results And Predicted Value"
      ]
    },
    {
      "cell_type": "code",
      "metadata": {
        "colab": {
          "base_uri": "https://localhost:8080/",
          "height": 295
        },
        "id": "NStdNcTbySXT",
        "outputId": "f0fb4fb1-da6e-46ac-dac1-145827ae56f9"
      },
      "source": [
        "plt.scatter(x_train,y_train,color='green',marker='*');\r\n",
        "plt.plot(x_train,lr.predict(x_train),color='blue');\r\n",
        "plt.xlabel(\"Number of Hours\");\r\n",
        "plt.ylabel(\"Score of Student\");\r\n",
        "plt.title(\"Unsupervised ML-Linear Regression\");\r\n",
        "plt.show();"
      ],
      "execution_count": null,
      "outputs": [
        {
          "output_type": "display_data",
          "data": {
            "image/png": "[encoded data removed]",
            "text/plain": [
              "<Figure size 432x288 with 1 Axes>"
            ]
          },
          "metadata": {
            "tags": [],
            "needs_background": "light"
          }
        }
      ]
    },
    {
      "cell_type": "markdown",
      "metadata": {
        "id": "-CB2Q0bLzrJ4"
      },
      "source": [
        "Step 7: Predict the value\r\n"
      ]
    },
    {
      "cell_type": "code",
      "metadata": {
        "colab": {
          "base_uri": "https://localhost:8080/"
        },
        "id": "VHsq9jof0Q_0",
        "outputId": "da7bba19-e933-4574-934f-03d5aab9881f"
      },
      "source": [
        "lr.predict([[9.25]])"
      ],
      "execution_count": null,
      "outputs": [
        {
          "output_type": "execute_result",
          "data": {
            "text/plain": [
              "array([93.69173249])"
            ]
          },
          "metadata": {
            "tags": []
          },
          "execution_count": 41
        }
      ]
    },
    {
      "cell_type": "markdown",
      "metadata": {
        "id": "8aZjP8r70rLW"
      },
      "source": [
        "Step 8: Difference Between predicted Values and Actual values"
      ]
    },
    {
      "cell_type": "code",
      "metadata": {
        "colab": {
          "base_uri": "https://localhost:8080/",
          "height": 202
        },
        "id": "Mllp2Ovs0yqd",
        "outputId": "94663c84-0b10-49f4-d8b0-7e1feb832ad7"
      },
      "source": [
        "df = pd.DataFrame({'Actual': y_test, 'Predicted': y_pred})  \r\n",
        "df"
      ],
      "execution_count": null,
      "outputs": [
        {
          "output_type": "execute_result",
          "data": {
            "text/html": [
              "<div>\n",
              "<style scoped>\n",
              "    .dataframe tbody tr th:only-of-type {\n",
              "        vertical-align: middle;\n",
              "    }\n",
              "\n",
              "    .dataframe tbody tr th {\n",
              "        vertical-align: top;\n",
              "    }\n",
              "\n",
              "    .dataframe thead th {\n",
              "        text-align: right;\n",
              "    }\n",
              "</style>\n",
              "<table border=\"1\" class=\"dataframe\">\n",
              "  <thead>\n",
              "    <tr style=\"text-align: right;\">\n",
              "      <th></th>\n",
              "      <th>Actual</th>\n",
              "      <th>Predicted</th>\n",
              "    </tr>\n",
              "  </thead>\n",
              "  <tbody>\n",
              "    <tr>\n",
              "      <th>5</th>\n",
              "      <td>20</td>\n",
              "      <td>16.884145</td>\n",
              "    </tr>\n",
              "    <tr>\n",
              "      <th>2</th>\n",
              "      <td>27</td>\n",
              "      <td>33.732261</td>\n",
              "    </tr>\n",
              "    <tr>\n",
              "      <th>19</th>\n",
              "      <td>69</td>\n",
              "      <td>75.357018</td>\n",
              "    </tr>\n",
              "    <tr>\n",
              "      <th>16</th>\n",
              "      <td>30</td>\n",
              "      <td>26.794801</td>\n",
              "    </tr>\n",
              "    <tr>\n",
              "      <th>11</th>\n",
              "      <td>62</td>\n",
              "      <td>60.491033</td>\n",
              "    </tr>\n",
              "  </tbody>\n",
              "</table>\n",
              "</div>"
            ],
            "text/plain": [
              "    Actual  Predicted\n",
              "5       20  16.884145\n",
              "2       27  33.732261\n",
              "19      69  75.357018\n",
              "16      30  26.794801\n",
              "11      62  60.491033"
            ]
          },
          "metadata": {
            "tags": []
          },
          "execution_count": 42
        }
      ]
    },
    {
      "cell_type": "markdown",
      "metadata": {
        "id": "GUp6kAdr1oDN"
      },
      "source": [
        "Step 9: Evaluating model Performance"
      ]
    },
    {
      "cell_type": "code",
      "metadata": {
        "colab": {
          "base_uri": "https://localhost:8080/"
        },
        "id": "Wy8Lpusj1AXT",
        "outputId": "275c2c2f-b5ab-46d3-ee9f-b78ad1d42d87"
      },
      "source": [
        "from sklearn import metrics  \r\n",
        "print('Evaluating Model Performance:', metrics.r2_score(y_test, y_pred)) ;\r\n",
        "print('Error_Rate:', metrics.mean_absolute_error(y_test, y_pred));"
      ],
      "execution_count": null,
      "outputs": [
        {
          "output_type": "stream",
          "text": [
            "Evaluating Model Performance: 0.9454906892105354\n",
            "Error_Rate: 4.183859899002982\n"
          ],
          "name": "stdout"
        }
      ]
    }
  ]
}